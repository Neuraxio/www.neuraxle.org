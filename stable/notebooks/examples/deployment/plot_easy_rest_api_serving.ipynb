{
  "cells": [
    {
      "cell_type": "code",
      "execution_count": null,
      "metadata": {
        "collapsed": false
      },
      "outputs": [],
      "source": [
        "%matplotlib inline"
      ]
    },
    {
      "cell_type": "markdown",
      "metadata": {},
      "source": [
        "\n# Easy REST API Model Serving with Neuraxle\n\nThis demonstrates an easy way to deploy your Neuraxle model or pipeline to a REST API.\n\n..\n    Copyright 2019, Neuraxio Inc.\n\n    Licensed under the Apache License, Version 2.0 (the \"License\");\n    you may not use this file except in compliance with the License.\n    You may obtain a copy of the License at\n\n        http://www.apache.org/licenses/LICENSE-2.0\n\n    Unless required by applicable law or agreed to in writing, software\n    distributed under the License is distributed on an \"AS IS\" BASIS,\n    WITHOUT WARRANTIES OR CONDITIONS OF ANY KIND, either express or implied.\n    See the License for the specific language governing permissions and\n    limitations under the License.\n\n..\n    Thanks to Umaneo Technologies Inc. for their contributions to this Machine Learning\n    project, visit https://www.umaneo.com/ for more information on Umaneo Technologies Inc.\n"
      ]
    },
    {
      "cell_type": "code",
      "execution_count": null,
      "metadata": {
        "collapsed": false
      },
      "outputs": [],
      "source": [
        "import numpy as np\nfrom flask import Flask\nfrom sklearn.cluster import KMeans\nfrom sklearn.datasets import load_boston\nfrom sklearn.decomposition import PCA, FastICA\nfrom sklearn.ensemble import GradientBoostingRegressor\nfrom sklearn.metrics import r2_score\nfrom sklearn.model_selection import train_test_split\nfrom sklearn.utils import shuffle\n\nfrom neuraxle.rest.flask import FlaskRestApiWrapper, JSONDataBodyDecoder, JSONDataResponseEncoder\nfrom neuraxle.pipeline import Pipeline\nfrom neuraxle.steps.sklearn import RidgeModelStacking\nfrom neuraxle.union import AddFeatures\n\n\ndef main():\n    boston = load_boston()\n    X, y = shuffle(boston.data, boston.target, random_state=13)\n    X = X.astype(np.float32)\n    X_train, X_test, y_train, y_test = train_test_split(X, y, test_size=0.25, shuffle=False)\n\n    pipeline = Pipeline([\n        AddFeatures([\n            PCA(n_components=2),\n            FastICA(n_components=2),\n        ]),\n        RidgeModelStacking([\n            GradientBoostingRegressor(),\n            KMeans(),\n        ]),\n    ])\n\n    print(\"Fitting on train:\")\n    pipeline = pipeline.fit(X_train, y_train)\n    print(\"\")\n    print(\"Transforming train and test:\")\n    y_train_predicted = pipeline.transform(X_train)\n    y_test_predicted = pipeline.transform(X_test)\n    print(\"\")\n    print(\"Evaluating transformed train:\")\n    score = r2_score(y_train_predicted, y_train)\n    print('R2 regression score:', score)\n    print(\"\")\n    print(\"Evaluating transformed test:\")\n    score = r2_score(y_test_predicted, y_test)\n    print('R2 regression score:', score)\n    print(\"Deploying the application by routing data to the transform method:\")\n\n    class CustomJSONDecoderFor2DArray(JSONDataBodyDecoder):\n        \"\"\"This is a custom JSON decoder class that precedes the pipeline's transformation.\"\"\"\n\n        def decode(self, data_inputs):\n            \"\"\"\n            Transform a JSON list object into an np.array object.\n\n            :param data_inputs: json object\n            :return: np array for data inputs\n            \"\"\"\n            return np.array(data_inputs)\n\n    class CustomJSONEncoderOfOutputs(JSONDataResponseEncoder):\n        \"\"\"This is a custom JSON response encoder class for converting the pipeline's transformation outputs.\"\"\"\n\n        def encode(self, data_inputs) -> dict:\n            \"\"\"\n            Convert predictions to a dict for creating a JSON Response object.\n\n            :param data_inputs:\n            :return:\n            \"\"\"\n            return {\n                'predictions': list(data_inputs)\n            }\n\n    app = FlaskRestApiWrapper(\n        json_decoder=CustomJSONDecoderFor2DArray(),\n        wrapped=pipeline,\n        json_encoder=CustomJSONEncoderOfOutputs()\n    ).get_app()\n\n    print(\"Finally, run the app by uncommenting this next line of code:\")\n\n    # app.run(debug=False, port=5000)\n\n    print(\"You can now call your pipeline over HTTP with a (JSON) REST API.\")\n\n    # test_predictictions = requests.post(\n    #     url='http://127.0.0.1:5000/',\n    #     json=X_test.tolist()\n    # )\n    # print(test_predictictions)\n    # print(test_predictictions.content)\n\n    assert isinstance(app, Flask)\n\n    return app\n\n\nif __name__ == \"__main__\":\n    main()"
      ]
    }
  ],
  "metadata": {
    "kernelspec": {
      "display_name": "Python 3",
      "language": "python",
      "name": "python3"
    },
    "language_info": {
      "codemirror_mode": {
        "name": "ipython",
        "version": 3
      },
      "file_extension": ".py",
      "mimetype": "text/x-python",
      "name": "python",
      "nbconvert_exporter": "python",
      "pygments_lexer": "ipython3",
      "version": "3.8.10"
    }
  },
  "nbformat": 4,
  "nbformat_minor": 0
}