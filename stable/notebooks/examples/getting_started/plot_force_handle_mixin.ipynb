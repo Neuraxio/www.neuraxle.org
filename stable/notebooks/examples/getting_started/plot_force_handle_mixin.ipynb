{
  "cells": [
    {
      "cell_type": "code",
      "execution_count": null,
      "metadata": {
        "collapsed": false
      },
      "outputs": [],
      "source": [
        "%matplotlib inline"
      ]
    },
    {
      "cell_type": "markdown",
      "metadata": {},
      "source": [
        "\n# Create Pipeline Steps that require implementing only handler methods\n\nIf a pipeline step only needs to implement handler methods, then you can inherit from the\nForceHandleMixin as demonstrated here. Handler methods are useful when :\n\n    - You need to change the shape of the data container passed to the following steps, or the wrapped steps.\n    - You want to apply side effects based on the data container, and the execution context.\n    - You want to change the pipeline execution flow based on the data container, and the execution context.\n\n..\n    Copyright 2022, Neuraxio Inc.\n\n    Licensed under the Apache License, Version 2.0 (the \"License\");\n    you may not use this file except in compliance with the License.\n    You may obtain a copy of the License at\n\n        http://www.apache.org/licenses/LICENSE-2.0\n\n    Unless required by applicable law or agreed to in writing, software\n    distributed under the License is distributed on an \"AS IS\" BASIS,\n    WITHOUT WARRANTIES OR CONDITIONS OF ANY KIND, either express or implied.\n    See the License for the specific language governing permissions and\n    limitations under the License.\n\n..\n    Thanks to Umaneo Technologies Inc. for their contributions to this Machine Learning\n    project, visit https://www.umaneo.com/ for more information on Umaneo Technologies Inc.\n"
      ]
    },
    {
      "cell_type": "code",
      "execution_count": null,
      "metadata": {
        "collapsed": false
      },
      "outputs": [],
      "source": [
        "from typing import Tuple\n\nimport numpy as np\nfrom neuraxle.base import DACT, BaseStep\nfrom neuraxle.base import ExecutionContext as CX\nfrom neuraxle.base import ForceHandleMixin\n\n\nclass ForceHandleMixinStep(ForceHandleMixin, BaseStep):\n    \"\"\"\n    Please make your steps inherit from ForceHandleMixin when they only implement handle_methods, but also\n    when you want to make impossible the use of regular fit, transform, and fit_transform methods\n    Also, make sure that BaseStep is the last step you inherit from.\n    \"\"\"\n\n    def __init__(self):\n        BaseStep.__init__(self)\n        ForceHandleMixin.__init__(self)\n\n    def _fit_data_container(self, data_container: DACT, context: CX) -> BaseStep:\n        \"\"\"\n        Change the shape of the data container.\n        and/or\n        Apply any side effects based on the data container\n        And/or\n        Change the execution flow of the pipeline\n        \"\"\"\n        context.logger.info(\"Handling the 'fit' with handler method!\")\n        return self\n\n    def _transform_data_container(self, data_container: DACT, context: CX) -> DACT:\n        \"\"\"\n        Change the shape of the data container.\n        and/or\n        Apply any side effects based on the data container\n        And/or\n        Change the execution flow of the pipeline\n        \"\"\"\n        context.logger.info(\"Handling the 'transform' with handler method!\")\n        return data_container\n\n    def _fit_transform_data_container(\n        self, data_container: DACT, context: CX\n    ) -> Tuple[BaseStep, DACT]:\n        \"\"\"\n        Change the shape of the data container.\n        and/or\n        Apply any side effects based on the data container\n        And/or\n        Change the execution flow of the pipeline\n        \"\"\"\n        context.logger.info(\"Handling the 'fit_transform' with handler method!\")\n        return self, data_container\n\n\ndef main():\n    p = ForceHandleMixinStep()\n    data_inputs = np.array([0, 1])\n    expected_outputs = np.array([0, 1])\n\n    p = p.fit(data_inputs, expected_outputs)\n    outputs = p.transform(data_inputs)\n\n\nif __name__ == '__main__':\n    main()"
      ]
    }
  ],
  "metadata": {
    "kernelspec": {
      "display_name": "Python 3",
      "language": "python",
      "name": "python3"
    },
    "language_info": {
      "codemirror_mode": {
        "name": "ipython",
        "version": 3
      },
      "file_extension": ".py",
      "mimetype": "text/x-python",
      "name": "python",
      "nbconvert_exporter": "python",
      "pygments_lexer": "ipython3",
      "version": "3.8.0"
    }
  },
  "nbformat": 4,
  "nbformat_minor": 0
}