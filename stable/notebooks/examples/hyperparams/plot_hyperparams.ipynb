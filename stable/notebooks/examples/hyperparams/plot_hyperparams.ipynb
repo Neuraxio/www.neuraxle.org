{
  "cells": [
    {
      "cell_type": "code",
      "execution_count": null,
      "metadata": {
        "collapsed": false
      },
      "outputs": [],
      "source": [
        "%matplotlib inline"
      ]
    },
    {
      "cell_type": "markdown",
      "metadata": {},
      "source": [
        "\n# Manipulate Hyperparameter Spaces for Hyperparameter Tuning\n\nThis demonstrates how to manipulate hyperparameters and hyperparameter spaces.\n\n..\n    Copyright 2019, Neuraxio Inc.\n\n    Licensed under the Apache License, Version 2.0 (the \"License\");\n    you may not use this file except in compliance with the License.\n    You may obtain a copy of the License at\n\n        http://www.apache.org/licenses/LICENSE-2.0\n\n    Unless required by applicable law or agreed to in writing, software\n    distributed under the License is distributed on an \"AS IS\" BASIS,\n    WITHOUT WARRANTIES OR CONDITIONS OF ANY KIND, either express or implied.\n    See the License for the specific language governing permissions and\n    limitations under the License.\n\n..\n    Thanks to Umaneo Technologies Inc. for their contributions to this Machine Learning\n    project, visit https://www.umaneo.com/ for more information on Umaneo Technologies Inc.\n\n\n"
      ]
    },
    {
      "cell_type": "code",
      "execution_count": null,
      "metadata": {
        "collapsed": false
      },
      "outputs": [],
      "source": [
        "from sklearn.decomposition import PCA\n\nfrom neuraxle.base import Identity\nfrom neuraxle.hyperparams.distributions import RandInt\nfrom neuraxle.hyperparams.space import HyperparameterSpace\nfrom neuraxle.pipeline import Pipeline\nfrom neuraxle.steps.numpy import MultiplyByN\n\n\ndef main():\n    p = Pipeline([\n        ('step1', MultiplyByN()),\n        ('step2', MultiplyByN()),\n        Pipeline([\n            Identity(),\n            Identity(),\n            PCA(n_components=4)\n        ])\n    ])\n\n    p.set_hyperparams_space({\n        'step1__multiply_by': RandInt(42, 50),\n        'step2__multiply_by': RandInt(-10, 0),\n        'Pipeline__PCA__n_components': RandInt(2, 3)\n    })\n\n    samples = p.get_hyperparams_space().rvs()\n    p.set_hyperparams(samples)\n\n    samples = p.get_hyperparams()\n    assert 42 <= samples['step1__multiply_by'] <= 50\n    assert -10 <= samples['step2__multiply_by'] <= 0\n    assert samples['Pipeline__PCA__n_components'] in [2, 3]\n    assert p['Pipeline']['PCA'].get_wrapped_sklearn_predictor().n_components in [2, 3]\n\n\nif __name__ == \"__main__\":\n    main()"
      ]
    }
  ],
  "metadata": {
    "kernelspec": {
      "display_name": "Python 3",
      "language": "python",
      "name": "python3"
    },
    "language_info": {
      "codemirror_mode": {
        "name": "ipython",
        "version": 3
      },
      "file_extension": ".py",
      "mimetype": "text/x-python",
      "name": "python",
      "nbconvert_exporter": "python",
      "pygments_lexer": "ipython3",
      "version": "3.6.9"
    }
  },
  "nbformat": 4,
  "nbformat_minor": 0
}