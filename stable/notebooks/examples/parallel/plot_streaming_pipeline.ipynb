{
  "cells": [
    {
      "cell_type": "code",
      "execution_count": null,
      "metadata": {
        "collapsed": false
      },
      "outputs": [],
      "source": [
        "%matplotlib inline"
      ]
    },
    {
      "cell_type": "markdown",
      "metadata": {},
      "source": [
        "\n# Parallel processing in Neuraxle\n\nThis demonstrates how to stream data in parallel in a Neuraxle pipeline.\nThe pipeline steps' parallelism here will be obvious.\n\nThe pipeline has two steps:\n1. Preprocessing: the step that process the data simply sleeps.\n2. Model: the model simply multiplies the data by two.\n\nThis can be used with scikit-learn as well to transform things in parallel,\nand any other library such as tensorflow.\n\nPipelines benchmarked:\n1. We first use a classical pipeline and evaluate the time.\n2. Then we use a minibatched pipeline and we evaluate the time.\n3. Then we use a parallel pipeline and we evaluate the time.\n\nWe expect the parallel pipeline to be faster due to having more workers\nin parallel, as well as starting the model's transformations at the same\ntime that other batches are being preprocessed, using queues.\n\n\n..\n    Copyright 2022, Neuraxio Inc.\n\n    Licensed under the Apache License, Version 2.0 (the \"License\");\n    you may not use this file except in compliance with the License.\n    You may obtain a copy of the License at\n\n        http://www.apache.org/licenses/LICENSE-2.0\n\n    Unless required by applicable law or agreed to in writing, software\n    distributed under the License is distributed on an \"AS IS\" BASIS,\n    WITHOUT WARRANTIES OR CONDITIONS OF ANY KIND, either express or implied.\n    See the License for the specific language governing permissions and\n    limitations under the License.\n"
      ]
    },
    {
      "cell_type": "code",
      "execution_count": null,
      "metadata": {
        "collapsed": false
      },
      "outputs": [],
      "source": [
        "import time\nimport numpy as np\nfrom neuraxle.base import ExecutionContext as CX\n\nfrom neuraxle.distributed.streaming import SequentialQueuedPipeline\nfrom neuraxle.pipeline import BasePipeline, Pipeline, MiniBatchSequentialPipeline\nfrom neuraxle.steps.loop import ForEach\nfrom neuraxle.steps.misc import Sleep\nfrom neuraxle.steps.numpy import MultiplyByN\n\n\ndef eval_run_time(pipeline: BasePipeline):\n    pipeline.setup(CX())\n    a = time.time()\n    output = pipeline.transform(list(range(100)))\n    b = time.time()\n    seconds = b - a\n    return seconds, output\n\n\ndef main():\n    \"\"\"\n    The task is to sleep 0.02 seconds for each data input and then multiply by 2.\n    \"\"\"\n    sleep_time = 0.02\n    preprocessing_and_model_steps = [ForEach(Sleep(sleep_time=sleep_time)), MultiplyByN(2)]\n\n    # Classical pipeline - all at once with one big batch:\n    p = Pipeline(preprocessing_and_model_steps)\n    time_vanilla_pipeline, output_classical = eval_run_time(p)\n    print(f\"Classical 'Pipeline' execution time: {time_vanilla_pipeline} seconds.\")\n\n    # Classical minibatch pipeline - minibatch size 25:\n    p = MiniBatchSequentialPipeline(preprocessing_and_model_steps,\n                                    batch_size=25)\n    time_minibatch_pipeline, output_minibatch = eval_run_time(p)\n    print(f\"Minibatched 'MiniBatchSequentialPipeline' execution time: {time_minibatch_pipeline} seconds.\")\n\n    # Parallel pipeline - minibatch size 25 with 4 parallel workers per step that\n    # have a max queue size of 10 batches between preprocessing and the model:\n    p = SequentialQueuedPipeline(preprocessing_and_model_steps,\n                                 n_workers_per_step=4, max_queue_size=10, batch_size=25)\n    time_parallel_pipeline, output_parallel = eval_run_time(p)\n    print(f\"Parallel 'SequentialQueuedPipeline' execution time: {time_parallel_pipeline} seconds.\")\n\n    assert time_parallel_pipeline < time_minibatch_pipeline, str((time_parallel_pipeline, time_vanilla_pipeline))\n    assert np.array_equal(output_classical, output_minibatch)\n    assert np.array_equal(output_classical, output_parallel)\n\n\nif __name__ == '__main__':\n    main()"
      ]
    }
  ],
  "metadata": {
    "kernelspec": {
      "display_name": "Python 3",
      "language": "python",
      "name": "python3"
    },
    "language_info": {
      "codemirror_mode": {
        "name": "ipython",
        "version": 3
      },
      "file_extension": ".py",
      "mimetype": "text/x-python",
      "name": "python",
      "nbconvert_exporter": "python",
      "pygments_lexer": "ipython3",
      "version": "3.8.0"
    }
  },
  "nbformat": 4,
  "nbformat_minor": 0
}