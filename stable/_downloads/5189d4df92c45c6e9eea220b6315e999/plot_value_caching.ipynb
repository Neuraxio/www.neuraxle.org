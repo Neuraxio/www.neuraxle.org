{
  "cells": [
    {
      "cell_type": "code",
      "execution_count": null,
      "metadata": {
        "collapsed": false
      },
      "outputs": [],
      "source": [
        "%matplotlib inline"
      ]
    },
    {
      "cell_type": "markdown",
      "metadata": {},
      "source": [
        "\nUsage of ValueCachingWrapper in Neuraxle.\n=============================================================\n\nThis demonstrates how you can use value caching in a Neuraxle pipeline.\n\n..\n    Copyright 2019, Neuraxio Inc.\n\n    Licensed under the Apache License, Version 2.0 (the \"License\");\n    you may not use this file except in compliance with the License.\n    You may obtain a copy of the License at\n\n        http://www.apache.org/licenses/LICENSE-2.0\n\n    Unless required by applicable law or agreed to in writing, software\n    distributed under the License is distributed on an \"AS IS\" BASIS,\n    WITHOUT WARRANTIES OR CONDITIONS OF ANY KIND, either express or implied.\n    See the License for the specific language governing permissions and\n    limitations under the License.\n"
      ]
    },
    {
      "cell_type": "code",
      "execution_count": null,
      "metadata": {
        "collapsed": false
      },
      "outputs": [],
      "source": [
        "import os\nimport shutil\nimport time\n\nimport numpy as np\n\nfrom neuraxle.pipeline import Pipeline\nfrom neuraxle.steps.caching import PickleValueCachingWrapper\nfrom neuraxle.steps.loop import ForEach\nfrom neuraxle.steps.misc import Sleep\nfrom neuraxle.steps.numpy import MultiplyByN\n\n\ndef main():\n    value_caching_folder = 'value_caching'\n    if not os.path.exists(value_caching_folder):\n        os.makedirs(value_caching_folder)\n\n    data_inputs = list(range(100))\n\n    sleep_time = 0.001\n    a = time.time()\n    for i in range(5):\n        p = Pipeline([\n            PickleValueCachingWrapper(\n                ForEach(Pipeline([Sleep(sleep_time=sleep_time), MultiplyByN(2)])),\n                cache_folder=value_caching_folder\n            )\n        ])\n        outputs_value_caching = p.transform(data_inputs)\n    b = time.time()\n    time_value_caching_pipeline = b - a\n    print('Pipeline with ValueCachingWrapper')\n    print('execution time: {} seconds'.format(time_value_caching_pipeline))\n\n    a = time.time()\n    for i in range(5):\n        p = Pipeline([\n            ForEach(Pipeline([Sleep(sleep_time=sleep_time), MultiplyByN(2)])),\n        ])\n\n        outputs_vanilla = p.transform(data_inputs)\n    b = time.time()\n    time_vanilla_pipeline = b - a\n    print('Pipeline without value caching')\n    print('execution time: {} seconds'.format(time_vanilla_pipeline))\n\n    shutil.rmtree(value_caching_folder)\n\n    assert np.array_equal(outputs_value_caching, outputs_vanilla)\n    assert time_value_caching_pipeline < time_vanilla_pipeline\n\n\nif __name__ == '__main__':\n    main()"
      ]
    }
  ],
  "metadata": {
    "kernelspec": {
      "display_name": "Python 3",
      "language": "python",
      "name": "python3"
    },
    "language_info": {
      "codemirror_mode": {
        "name": "ipython",
        "version": 3
      },
      "file_extension": ".py",
      "mimetype": "text/x-python",
      "name": "python",
      "nbconvert_exporter": "python",
      "pygments_lexer": "ipython3",
      "version": "3.8.5"
    }
  },
  "nbformat": 4,
  "nbformat_minor": 0
}