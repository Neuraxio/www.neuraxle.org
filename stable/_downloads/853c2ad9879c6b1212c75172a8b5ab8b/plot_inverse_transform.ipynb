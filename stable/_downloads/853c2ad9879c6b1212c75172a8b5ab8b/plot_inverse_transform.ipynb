{
  "cells": [
    {
      "cell_type": "code",
      "execution_count": null,
      "metadata": {
        "collapsed": false
      },
      "outputs": [],
      "source": [
        "%matplotlib inline"
      ]
    },
    {
      "cell_type": "markdown",
      "metadata": {},
      "source": [
        "\nInverse Transforms in Neuraxle: How to Reverse a Prediction\n============================================================\n\nThis demonstrates how to make a prediction, and then to undo the prediction to get back the original inputs or an\nestimate of the original inputs. Not every pipeline steps have an inverse transform method, because not every operation\nis reversible.\n\n..\n    Copyright 2019, Neuraxio Inc.\n\n    Licensed under the Apache License, Version 2.0 (the \"License\");\n    you may not use this file except in compliance with the License.\n    You may obtain a copy of the License at\n\n        http://www.apache.org/licenses/LICENSE-2.0\n\n    Unless required by applicable law or agreed to in writing, software\n    distributed under the License is distributed on an \"AS IS\" BASIS,\n    WITHOUT WARRANTIES OR CONDITIONS OF ANY KIND, either express or implied.\n    See the License for the specific language governing permissions and\n    limitations under the License.\n\n..\n    Thanks to Umaneo Technologies Inc. for their contributions to this Machine Learning\n    project, visit https://www.umaneo.com/ for more information on Umaneo Technologies Inc.\n\n\n"
      ]
    },
    {
      "cell_type": "code",
      "execution_count": null,
      "metadata": {
        "collapsed": false
      },
      "outputs": [],
      "source": [
        "import numpy as np\n\nfrom neuraxle.pipeline import Pipeline\nfrom neuraxle.steps.numpy import MultiplyByN\n\n\ndef main():\n    p = Pipeline([MultiplyByN(multiply_by=2)])\n\n    data_inputs = np.array([1, 2])\n    generated_outputs = p.transform(data_inputs)\n    regenerated_inputs = p.inverse_transform(generated_outputs)\n\n    assert np.array_equal(regenerated_inputs, data_inputs)\n    assert np.array_equal(generated_outputs, 2 * data_inputs)\n\n\nif __name__ == \"__main__\":\n    main()"
      ]
    }
  ],
  "metadata": {
    "kernelspec": {
      "display_name": "Python 3",
      "language": "python",
      "name": "python3"
    },
    "language_info": {
      "codemirror_mode": {
        "name": "ipython",
        "version": 3
      },
      "file_extension": ".py",
      "mimetype": "text/x-python",
      "name": "python",
      "nbconvert_exporter": "python",
      "pygments_lexer": "ipython3",
      "version": "3.6.9"
    }
  },
  "nbformat": 4,
  "nbformat_minor": 0
}