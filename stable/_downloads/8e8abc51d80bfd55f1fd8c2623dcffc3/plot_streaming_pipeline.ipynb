{
  "cells": [
    {
      "cell_type": "code",
      "execution_count": null,
      "metadata": {
        "collapsed": false
      },
      "outputs": [],
      "source": [
        "%matplotlib inline"
      ]
    },
    {
      "cell_type": "markdown",
      "metadata": {},
      "source": [
        "\nParallel processing in Neuraxle\n===================================================================\n\nThis demonstrates how to stream data in parallel in a Neuraxle pipeline.\n\n..\n    Copyright 2019, Neuraxio Inc.\n\n    Licensed under the Apache License, Version 2.0 (the \"License\");\n    you may not use this file except in compliance with the License.\n    You may obtain a copy of the License at\n\n        http://www.apache.org/licenses/LICENSE-2.0\n\n    Unless required by applicable law or agreed to in writing, software\n    distributed under the License is distributed on an \"AS IS\" BASIS,\n    WITHOUT WARRANTIES OR CONDITIONS OF ANY KIND, either express or implied.\n    See the License for the specific language governing permissions and\n    limitations under the License.\n"
      ]
    },
    {
      "cell_type": "code",
      "execution_count": null,
      "metadata": {
        "collapsed": false
      },
      "outputs": [],
      "source": [
        "import time\nimport numpy as np\n\nfrom neuraxle.distributed.streaming import SequentialQueuedPipeline\nfrom neuraxle.pipeline import Pipeline\nfrom neuraxle.steps.loop import ForEachDataInput\nfrom neuraxle.steps.misc import Sleep\nfrom neuraxle.steps.numpy import MultiplyByN\n\n\ndef main():\n    \"\"\"\n    Process tasks of batch size 10 with 8 queued workers that have a max queue size of 10.\n    Each task doest the following: For each data input, sleep 0.02 seconds, and multiply by 2.\n    \"\"\"\n    sleep_time = 0.02\n    p = SequentialQueuedPipeline([\n        Pipeline([ForEachDataInput(Sleep(sleep_time=sleep_time)), MultiplyByN(2)]),\n    ], n_workers_per_step=8, max_queue_size=10, batch_size=10)\n\n    a = time.time()\n    outputs_streaming = p.transform(list(range(100)))\n    b = time.time()\n    time_queued_pipeline = b - a\n    print('SequentialQueuedPipeline')\n    print('execution time: {} seconds'.format(time_queued_pipeline))\n\n    \"\"\"\n    Process data inputs sequentially. \n    For each data input, sleep 0.02 seconds, and then multiply by 2.\n    \"\"\"\n    p = Pipeline([\n        Pipeline([ForEachDataInput(Sleep(sleep_time=sleep_time)), MultiplyByN(2)]),\n    ])\n\n    a = time.time()\n    outputs_vanilla = p.transform(list(range(100)))\n    b = time.time()\n    time_vanilla_pipeline = b - a\n\n    print('VanillaPipeline')\n    print('execution time: {} seconds'.format(time_vanilla_pipeline))\n\n    assert time_queued_pipeline < time_vanilla_pipeline\n    assert np.array_equal(outputs_streaming, outputs_vanilla)\n\n\nif __name__ == '__main__':\n    main()"
      ]
    }
  ],
  "metadata": {
    "kernelspec": {
      "display_name": "Python 3",
      "language": "python",
      "name": "python3"
    },
    "language_info": {
      "codemirror_mode": {
        "name": "ipython",
        "version": 3
      },
      "file_extension": ".py",
      "mimetype": "text/x-python",
      "name": "python",
      "nbconvert_exporter": "python",
      "pygments_lexer": "ipython3",
      "version": "3.8.5"
    }
  },
  "nbformat": 4,
  "nbformat_minor": 0
}