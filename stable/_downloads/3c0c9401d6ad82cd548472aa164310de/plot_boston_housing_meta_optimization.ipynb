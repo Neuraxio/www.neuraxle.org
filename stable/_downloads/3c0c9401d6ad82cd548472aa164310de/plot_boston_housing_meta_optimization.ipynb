{
  "cells": [
    {
      "cell_type": "code",
      "execution_count": null,
      "metadata": {
        "collapsed": false
      },
      "outputs": [],
      "source": [
        "%matplotlib inline"
      ]
    },
    {
      "cell_type": "markdown",
      "metadata": {},
      "source": [
        "\nBoston Housing Regression with Meta Optimization\n================================================\n\nThis is an automatic machine learning example. It is more sophisticated than the other simple regression example.\nNot only a pipeline is defined, but also an hyperparameter space is defined for the pipeline. Then, a random search is\nperformed to find the best possible combination of hyperparameters by sampling randomly in the hyperparameter space.\n\n..\n    Copyright 2019, Neuraxio Inc.\n\n    Licensed under the Apache License, Version 2.0 (the \"License\");\n    you may not use this file except in compliance with the License.\n    You may obtain a copy of the License at\n\n        http://www.apache.org/licenses/LICENSE-2.0\n\n    Unless required by applicable law or agreed to in writing, software\n    distributed under the License is distributed on an \"AS IS\" BASIS,\n    WITHOUT WARRANTIES OR CONDITIONS OF ANY KIND, either express or implied.\n    See the License for the specific language governing permissions and\n    limitations under the License.\n\n..\n    Thanks to Umaneo Technologies Inc. for their contributions to this Machine Learning\n    project, visit https://www.umaneo.com/ for more information on Umaneo Technologies Inc.\n"
      ]
    },
    {
      "cell_type": "code",
      "execution_count": null,
      "metadata": {
        "collapsed": false
      },
      "outputs": [],
      "source": [
        "import numpy as np\nfrom py._path.local import LocalPath\nfrom sklearn.cluster import KMeans\nfrom sklearn.datasets import load_boston\nfrom sklearn.decomposition import PCA, FastICA\nfrom sklearn.ensemble import GradientBoostingRegressor\nfrom sklearn.linear_model import Ridge\nfrom sklearn.metrics import r2_score, mean_squared_error\nfrom sklearn.model_selection import train_test_split\nfrom sklearn.utils import shuffle\n\nfrom neuraxle.hyperparams.distributions import RandInt, LogUniform, Boolean\nfrom neuraxle.hyperparams.space import HyperparameterSpace\nfrom neuraxle.metaopt.auto_ml import AutoML, InMemoryHyperparamsRepository, ValidationSplitter\nfrom neuraxle.metaopt.callbacks import MetricCallback, ScoringCallback\nfrom neuraxle.pipeline import Pipeline\nfrom neuraxle.steps.numpy import NumpyTranspose\nfrom neuraxle.steps.sklearn import SKLearnWrapper\nfrom neuraxle.union import AddFeatures, ModelStacking\n\n\ndef main(tmpdir: LocalPath):\n    boston = load_boston()\n    X, y = shuffle(boston.data, boston.target, random_state=13)\n    X = X.astype(np.float32)\n    X_train, X_test, y_train, y_test = train_test_split(X, y, test_size=0.25, shuffle=False)\n\n    # Note that the hyperparameter spaces are defined here during the pipeline definition, but it could be already set\n    # within the classes ar their definition if using custom classes, or also it could be defined after declaring the\n    # pipeline using a flat dict or a nested dict.\n\n    p = Pipeline([\n        AddFeatures([\n            SKLearnWrapper(\n                PCA(n_components=2),\n                HyperparameterSpace({\"n_components\": RandInt(1, 3)})\n            ),\n            SKLearnWrapper(\n                FastICA(n_components=2),\n                HyperparameterSpace({\"n_components\": RandInt(1, 3)})\n            ),\n        ]),\n        ModelStacking([\n            SKLearnWrapper(\n                GradientBoostingRegressor(),\n                HyperparameterSpace({\n                    \"n_estimators\": RandInt(50, 600), \"max_depth\": RandInt(1, 10),\n                    \"learning_rate\": LogUniform(0.07, 0.7)\n                })\n            ),\n            SKLearnWrapper(\n                KMeans(),\n                HyperparameterSpace({\"n_clusters\": RandInt(5, 10)})\n            ),\n        ],\n            joiner=NumpyTranspose(),\n            judge=SKLearnWrapper(\n                Ridge(),\n                HyperparameterSpace({\"alpha\": LogUniform(0.7, 1.4), \"fit_intercept\": Boolean()})\n            ),\n        )\n    ])\n\n    print(\"Meta-fitting on train:\")\n    auto_ml = AutoML(\n        p,\n        validation_splitter=ValidationSplitter(0.20),\n        refit_trial=True,\n        n_trials=10,\n        epochs=10,\n        cache_folder_when_no_handle=str(tmpdir),\n        scoring_callback=ScoringCallback(mean_squared_error, higher_score_is_better=False),\n        callbacks=[MetricCallback('mse', metric_function=mean_squared_error, higher_score_is_better=False)],\n        hyperparams_repository=InMemoryHyperparamsRepository(cache_folder=str(tmpdir))\n    )\n\n    random_search = auto_ml.fit(X_train, y_train)\n    p = random_search.get_best_model()\n    print(\"\")\n\n    print(\"Transforming train and test:\")\n    y_train_predicted = p.predict(X_train)\n    y_test_predicted = p.predict(X_test)\n\n    print(\"\")\n\n    print(\"Evaluating transformed train:\")\n    score_transform = r2_score(y_train_predicted, y_train)\n    print('R2 regression score:', score_transform)\n\n    print(\"\")\n\n    print(\"Evaluating transformed test:\")\n    score_test = r2_score(y_test_predicted, y_test)\n    print('R2 regression score:', score_test)\n\n\nif __name__ == \"__main__\":\n    main('cache')"
      ]
    }
  ],
  "metadata": {
    "kernelspec": {
      "display_name": "Python 3",
      "language": "python",
      "name": "python3"
    },
    "language_info": {
      "codemirror_mode": {
        "name": "ipython",
        "version": 3
      },
      "file_extension": ".py",
      "mimetype": "text/x-python",
      "name": "python",
      "nbconvert_exporter": "python",
      "pygments_lexer": "ipython3",
      "version": "3.7.6"
    }
  },
  "nbformat": 4,
  "nbformat_minor": 0
}