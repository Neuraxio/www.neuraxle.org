{
  "cells": [
    {
      "cell_type": "code",
      "execution_count": null,
      "metadata": {
        "collapsed": false
      },
      "outputs": [],
      "source": [
        "%matplotlib inline"
      ]
    },
    {
      "cell_type": "markdown",
      "metadata": {},
      "source": [
        "\nBoston Housing Regression\n==========================\n\nThis example solves a regression problem using a pipeline with the following steps:\n\n - Feature augmentation with PCA and Fast ICA,\n - A Pre-regression using an ensemble containing gradient boosted, and a KMeans clustering for even more features in the stacking,\n - The model stacking using a ridge regression.\n\nThis example also prints the shapes of the objects between the pipeline elements.\n\n..\n    Copyright 2019, Neuraxio Inc.\n\n    Licensed under the Apache License, Version 2.0 (the \"License\");\n    you may not use this file except in compliance with the License.\n    You may obtain a copy of the License at\n\n        http://www.apache.org/licenses/LICENSE-2.0\n\n    Unless required by applicable law or agreed to in writing, software\n    distributed under the License is distributed on an \"AS IS\" BASIS,\n    WITHOUT WARRANTIES OR CONDITIONS OF ANY KIND, either express or implied.\n    See the License for the specific language governing permissions and\n    limitations under the License.\n\n..\n    Thanks to Umaneo Technologies Inc. for their contributions to this Machine Learning\n    project, visit https://www.umaneo.com/ for more information on Umaneo Technologies Inc.\n"
      ]
    },
    {
      "cell_type": "code",
      "execution_count": null,
      "metadata": {
        "collapsed": false
      },
      "outputs": [],
      "source": [
        "import numpy as np\nfrom sklearn.cluster import KMeans\nfrom sklearn.datasets import load_boston\nfrom sklearn.decomposition import PCA, FastICA\nfrom sklearn.ensemble import GradientBoostingRegressor\nfrom sklearn.metrics import r2_score\nfrom sklearn.model_selection import train_test_split\nfrom sklearn.utils import shuffle\n\nfrom neuraxle.pipeline import Pipeline\nfrom neuraxle.steps.numpy import NumpyShapePrinter\nfrom neuraxle.steps.sklearn import RidgeModelStacking\nfrom neuraxle.union import AddFeatures\n\n\ndef main():\n    boston = load_boston()\n    X, y = shuffle(boston.data, boston.target, random_state=13)\n    X = X.astype(np.float32)\n    X_train, X_test, y_train, y_test = train_test_split(X, y, test_size=0.25, shuffle=False)\n\n    p = Pipeline([\n        NumpyShapePrinter(),\n        AddFeatures([\n            PCA(n_components=2),\n            FastICA(n_components=2),\n        ]),\n        NumpyShapePrinter(),\n        RidgeModelStacking([\n            GradientBoostingRegressor(),\n            GradientBoostingRegressor(n_estimators=500),\n            GradientBoostingRegressor(max_depth=5),\n            KMeans(),\n        ]),\n        NumpyShapePrinter(),\n    ])\n\n    print(\"Fitting on train:\")\n    p = p.fit(X_train, y_train)\n    print(\"\")\n    print(\"Transforming train and test:\")\n    y_train_predicted = p.predict(X_train)\n    y_test_predicted = p.predict(X_test)\n    print(\"\")\n    print(\"Evaluating transformed train:\")\n    score_train = r2_score(y_train_predicted, y_train)\n    print('R2 regression score:', score_train)\n    print(\"\")\n    print(\"Evaluating transformed test:\")\n    score_test = r2_score(y_test_predicted, y_test)\n    print('R2 regression score:', score_test)\n\n    assert y_train_predicted.shape == (379,)\n    assert y_test_predicted.shape == (127,)\n    assert isinstance(score_train, float)\n    assert isinstance(score_test, float)\n\n    return y_train_predicted, y_test_predicted, score_train, score_test\n\n\nif __name__ == \"__main__\":\n    main()"
      ]
    }
  ],
  "metadata": {
    "kernelspec": {
      "display_name": "Python 3",
      "language": "python",
      "name": "python3"
    },
    "language_info": {
      "codemirror_mode": {
        "name": "ipython",
        "version": 3
      },
      "file_extension": ".py",
      "mimetype": "text/x-python",
      "name": "python",
      "nbconvert_exporter": "python",
      "pygments_lexer": "ipython3",
      "version": "3.8.5"
    }
  },
  "nbformat": 4,
  "nbformat_minor": 0
}