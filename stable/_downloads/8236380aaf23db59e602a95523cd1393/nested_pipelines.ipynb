{
  "cells": [
    {
      "cell_type": "code",
      "execution_count": null,
      "metadata": {
        "collapsed": false
      },
      "outputs": [],
      "source": [
        "%matplotlib inline"
      ]
    },
    {
      "cell_type": "markdown",
      "metadata": {},
      "source": [
        "\nCreate Nested Pipelines in Neuraxle\n================================================\n\nYou can create pipelines within pipelines using the composition design pattern.\n\nThis demonstrates how to create pipelines within pipelines, and how to access the steps and their\nattributes in the nested pipelines.\n\nFor more info, see the `thread here <https://stackoverflow.com/questions/28822756/getting-model-attributes-from-scikit-learn-pipeline/58359509#58359509>`__.\n\n..\n    Copyright 2019, Neuraxio Inc.\n\n    Licensed under the Apache License, Version 2.0 (the \"License\");\n    you may not use this file except in compliance with the License.\n    You may obtain a copy of the License at\n\n        http://www.apache.org/licenses/LICENSE-2.0\n\n    Unless required by applicable law or agreed to in writing, software\n    distributed under the License is distributed on an \"AS IS\" BASIS,\n    WITHOUT WARRANTIES OR CONDITIONS OF ANY KIND, either express or implied.\n    See the License for the specific language governing permissions and\n    limitations under the License.\n\n..\n    Thanks to Umaneo Technologies Inc. for their contributions to this Machine Learning\n    project, visit https://www.umaneo.com/ for more information on Umaneo Technologies Inc.\n\n\n"
      ]
    },
    {
      "cell_type": "code",
      "execution_count": null,
      "metadata": {
        "collapsed": false
      },
      "outputs": [],
      "source": [
        "import numpy as np\nfrom sklearn.decomposition import PCA\nfrom sklearn.preprocessing import StandardScaler\n\nfrom neuraxle.base import Identity\nfrom neuraxle.pipeline import Pipeline\n\n\ndef main():\n    np.random.seed(42)\n    X = np.random.randint(5, size=(100, 5))\n\n    # Create and fit the pipeline:\n    pipeline = Pipeline([\n        StandardScaler(),\n        Identity(),\n        Pipeline([\n            Identity(),\n            Identity(),  # Note: an Identity step is a step that does nothing.\n            Identity(),  # We use it here for demonstration purposes.\n            Pipeline([\n                Identity(),\n                PCA(n_components=2)\n            ])\n        ])\n    ])\n    pipeline, X_t = pipeline.fit_transform(X)\n\n    # Get the components:\n    pca_components = pipeline[\"Pipeline\"][\"Pipeline\"][-1].get_wrapped_sklearn_predictor().components_\n    assert pca_components.shape == (2, 5)\n\n    # Discussion:\n    # https://stackoverflow.com/questions/28822756/getting-model-attributes-from-scikit-learn-pipeline/58359509#58359509\n\n\nif __name__ == \"__main__\":\n    main()"
      ]
    }
  ],
  "metadata": {
    "kernelspec": {
      "display_name": "Python 3",
      "language": "python",
      "name": "python3"
    },
    "language_info": {
      "codemirror_mode": {
        "name": "ipython",
        "version": 3
      },
      "file_extension": ".py",
      "mimetype": "text/x-python",
      "name": "python",
      "nbconvert_exporter": "python",
      "pygments_lexer": "ipython3",
      "version": "3.6.8"
    }
  },
  "nbformat": 4,
  "nbformat_minor": 0
}