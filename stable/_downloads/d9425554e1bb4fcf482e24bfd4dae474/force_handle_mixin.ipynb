{
  "cells": [
    {
      "cell_type": "code",
      "execution_count": null,
      "metadata": {
        "collapsed": false
      },
      "outputs": [],
      "source": [
        "%matplotlib inline"
      ]
    },
    {
      "cell_type": "markdown",
      "metadata": {},
      "source": [
        "\nCreate Pipeline Steps that require implementing only handler methods\n========================================================================================================================\n\nIf a pipeline step only needs to implement handler methods, then you can inherit from the ForceHandleMixin as demonstrated here.\nHandler methods are useful when :\n\n    - You need to change the shape of the data container passed to the following steps, or the wrapped steps.\n    - You want to apply side effects based on the data container, and the execution context.\n    - You want to change the pipeline execution flow based on the data container, and the execution context.\n\n..\n    Copyright 2019, Neuraxio Inc.\n\n    Licensed under the Apache License, Version 2.0 (the \"License\");\n    you may not use this file except in compliance with the License.\n    You may obtain a copy of the License at\n\n        http://www.apache.org/licenses/LICENSE-2.0\n\n    Unless required by applicable law or agreed to in writing, software\n    distributed under the License is distributed on an \"AS IS\" BASIS,\n    WITHOUT WARRANTIES OR CONDITIONS OF ANY KIND, either express or implied.\n    See the License for the specific language governing permissions and\n    limitations under the License.\n\n..\n    Thanks to Umaneo Technologies Inc. for their contributions to this Machine Learning\n    project, visit https://www.umaneo.com/ for more information on Umaneo Technologies Inc.\n\n\n"
      ]
    },
    {
      "cell_type": "code",
      "execution_count": null,
      "metadata": {
        "collapsed": false
      },
      "outputs": [],
      "source": [
        "import numpy as np\n\nfrom neuraxle.base import BaseStep, ForceAlwaysHandleMixin, DataContainer, ExecutionContext\nfrom neuraxle.pipeline import Pipeline\n\n\nclass ForceAlwaysAlwaysHandleMixinStep(ForceAlwaysHandleMixin, BaseStep):\n    \"\"\"\n    Please make your steps inherit from ForceHandleMixin when they only implement handle_methods, but also\n    when you want to make impossible the use of regular fit, transform, and fit_transform methods\n    Also, make sure that BaseStep is the last step you inherit from.\n    \"\"\"\n\n    def __init__(self):\n        ForceAlwaysHandleMixin.__init__(self)\n        BaseStep.__init__(self)\n\n    def handle_fit(self, data_container: DataContainer, context: ExecutionContext):\n        \"\"\"\n        Change the shape of the data container.\n        and/or\n        Apply any side effects based on the data container\n        And/or\n        Change the execution flow of the pipeline\n        \"\"\"\n\n        current_ids = self.hash(data_container.current_ids, self.hyperparams, data_container.data_inputs)\n        data_container.set_current_ids(current_ids)\n\n        return self, data_container\n\n    def handle_transform(self, data_container: DataContainer, context: ExecutionContext):\n        \"\"\"\n        Change the shape of the data container.\n        and/or\n        Apply any side effects based on the data container\n        And/or\n        Change the execution flow of the pipeline\n        \"\"\"\n\n        current_ids = self.hash(data_container.current_ids, self.hyperparams, data_container.data_inputs)\n        data_container.set_current_ids(current_ids)\n\n        return data_container\n\n    def handle_fit_transform(self, data_container: DataContainer, context: ExecutionContext):\n        \"\"\"\n        Change the shape of the data container.\n        and/or\n        Apply any side effects based on the data container\n        And/or\n        Change the execution flow of the pipeline\n        \"\"\"\n\n        current_ids = self.hash(data_container.current_ids, self.hyperparams, data_container.data_inputs)\n        data_container.set_current_ids(current_ids)\n\n        return self, data_container\n\n\ndef main():\n    p = Pipeline([\n        ForceAlwaysAlwaysHandleMixinStep(),\n    ])\n\n    p = p.fit(np.array([0, 1]), np.array([0, 1]))\n    p = p.transform(np.array([0, 1]))\n    \n    # Note that calling `ForceAlwaysAlwaysHandleMixinStep().fit(...)`\n    # on some data would have crashed. We would need to instead do\n    # `ForceAlwaysAlwaysHandleMixinStep().handle_fit(...)` with a handle.\n\n\nif __name__ == \"__main__\":\n    main()"
      ]
    }
  ],
  "metadata": {
    "kernelspec": {
      "display_name": "Python 3",
      "language": "python",
      "name": "python3"
    },
    "language_info": {
      "codemirror_mode": {
        "name": "ipython",
        "version": 3
      },
      "file_extension": ".py",
      "mimetype": "text/x-python",
      "name": "python",
      "nbconvert_exporter": "python",
      "pygments_lexer": "ipython3",
      "version": "3.6.8"
    }
  },
  "nbformat": 4,
  "nbformat_minor": 0
}