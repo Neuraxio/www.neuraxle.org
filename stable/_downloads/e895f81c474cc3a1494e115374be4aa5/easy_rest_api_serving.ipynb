{
  "cells": [
    {
      "cell_type": "code",
      "execution_count": null,
      "metadata": {
        "collapsed": false
      },
      "outputs": [],
      "source": [
        "%matplotlib inline"
      ]
    },
    {
      "cell_type": "markdown",
      "metadata": {},
      "source": [
        "\nEasy REST API Model Serving with Neuraxle\n================================================\n\nThis demonstrates an easy way to deploy your Neuraxle model or pipeline to a REST API.\n\n..\n    Copyright 2019, Neuraxio Inc.\n\n    Licensed under the Apache License, Version 2.0 (the \"License\");\n    you may not use this file except in compliance with the License.\n    You may obtain a copy of the License at\n\n        http://www.apache.org/licenses/LICENSE-2.0\n\n    Unless required by applicable law or agreed to in writing, software\n    distributed under the License is distributed on an \"AS IS\" BASIS,\n    WITHOUT WARRANTIES OR CONDITIONS OF ANY KIND, either express or implied.\n    See the License for the specific language governing permissions and\n    limitations under the License.\n\n\n"
      ]
    },
    {
      "cell_type": "code",
      "execution_count": null,
      "metadata": {
        "collapsed": false
      },
      "outputs": [],
      "source": [
        "import numpy as np\nfrom sklearn.cluster import KMeans\nfrom sklearn.datasets import load_boston\nfrom sklearn.decomposition import PCA, FastICA\nfrom sklearn.ensemble import GradientBoostingRegressor\nfrom sklearn.metrics import r2_score\nfrom sklearn.model_selection import train_test_split\nfrom sklearn.utils import shuffle\n\nfrom neuraxle.api.flask import FlaskRestApiWrapper, JSONDataBodyDecoder, JSONDataResponseEncoder\nfrom neuraxle.pipeline import Pipeline\nfrom neuraxle.steps.sklearn import SKLearnWrapper, RidgeModelStacking\nfrom neuraxle.union import AddFeatures\n\nboston = load_boston()\nX, y = shuffle(boston.data, boston.target, random_state=13)\nX = X.astype(np.float32)\nX_train, X_test, y_train, y_test = train_test_split(X, y, test_size=0.25, shuffle=False)\n\npipeline = Pipeline([\n    AddFeatures([\n        SKLearnWrapper(PCA(n_components=2)),\n        SKLearnWrapper(FastICA(n_components=2)),\n    ]),\n    RidgeModelStacking([\n        SKLearnWrapper(GradientBoostingRegressor()),\n        SKLearnWrapper(KMeans()),\n    ]),\n])\n\nprint(\"Fitting on train:\")\npipeline = pipeline.fit(X_train, y_train)\nprint(\"\")\n\nprint(\"Transforming train and test:\")\ny_train_predicted = pipeline.transform(X_train)\ny_test_predicted = pipeline.transform(X_test)\nprint(\"\")\n\nprint(\"Evaluating transformed train:\")\nscore = r2_score(y_train_predicted, y_train)\nprint('R2 regression score:', score)\nprint(\"\")\n\nprint(\"Evaluating transformed test:\")\nscore = r2_score(y_test_predicted, y_test)\nprint('R2 regression score:', score)\n\nprint(\"Deploying the application by routing data to the transform method:\")\n\n\nclass CustomJSONDecoderFor2DArray(JSONDataBodyDecoder):\n    \"\"\"This is a custom JSON decoder class that precedes the pipeline's transformation.\"\"\"\n\n    def decode(self, data_inputs):\n        \"\"\"\n        Transform a JSON list object into an np.array object.\n\n        :param data_inputs: json object\n        :return: np array for data inputs\n        \"\"\"\n        return np.array(data_inputs)\n\n\nclass CustomJSONEncoderOfOutputs(JSONDataResponseEncoder):\n    \"\"\"This is a custom JSON response encoder class for converting the pipeline's transformation outputs.\"\"\"\n\n    def encode(self, data_inputs) -> dict:\n        \"\"\"\n        Convert predictions to a dict for creating a JSON Response object.\n\n        :param data_inputs:\n        :return:\n        \"\"\"\n        return {\n            'predictions': list(data_inputs)\n        }\n\n\napp = FlaskRestApiWrapper(\n    json_decoder=CustomJSONDecoderFor2DArray(),\n    wrapped=pipeline,\n    json_encoder=CustomJSONEncoderOfOutputs()\n).get_app()\n\nprint(\"Finally, run the app by uncommenting this next line of code:\")\n# app.run(debug=False, port=5000)\n\nprint(\"You can now call your pipeline over HTTP with a (JSON) REST API.\")\n# test_predictictions = requests.post(\n#     url='http://127.0.0.1:5000/',\n#     json=X_test.tolist()\n# )\n# print(test_predictictions)\n# print(test_predictictions.content)"
      ]
    }
  ],
  "metadata": {
    "kernelspec": {
      "display_name": "Python 3",
      "language": "python",
      "name": "python3"
    },
    "language_info": {
      "codemirror_mode": {
        "name": "ipython",
        "version": 3
      },
      "file_extension": ".py",
      "mimetype": "text/x-python",
      "name": "python",
      "nbconvert_exporter": "python",
      "pygments_lexer": "ipython3",
      "version": "3.6.8"
    }
  },
  "nbformat": 4,
  "nbformat_minor": 0
}