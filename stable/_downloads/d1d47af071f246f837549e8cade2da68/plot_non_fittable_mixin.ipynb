{
  "cells": [
    {
      "cell_type": "code",
      "execution_count": null,
      "metadata": {
        "collapsed": false
      },
      "outputs": [],
      "source": [
        "%matplotlib inline"
      ]
    },
    {
      "cell_type": "markdown",
      "metadata": {},
      "source": [
        "\nCreate Pipeline Steps in Neuraxle that doesn't fit or transform\n================================================================\n\nIf a pipeline step doesn't need to be fitted and only transforms data (e.g.: taking the logarithm of the data),\nthen you can inherit from the NonFittableMixin as demonstrated here, which will override the fit method properly\nfor you. You can also use a NonTransformableMixin if your step doesn't transform anything, which is rarer. If your step\nsimply just does nothing to the data, then you could even use the Identity class of Neuraxle, which is simply a class\nthat inherits from both the NonFittableMixin, the NonTransformableMixin, and BaseStep.\n\nMixins are an old Object Oriented Programming (OOP) design pattern that resurfaces when designing\nMachine Learning Pipelines. Those are add-ons to classes to implement some methods in some specific ways already.\nA mixin doesn't inherit from BaseStep itself, because we can combine many of them in one class. However, a mixin must\nsuppose that the object that inherits from the mixin also inherits from it's base class. Here, our base class is the\nBaseStep class.\n\n..\n    Copyright 2019, Neuraxio Inc.\n\n    Licensed under the Apache License, Version 2.0 (the \"License\");\n    you may not use this file except in compliance with the License.\n    You may obtain a copy of tche License at\n\n        http://www.apache.org/licenses/LICENSE-2.0\n\n    Unless required by applicable law or agreed to in writing, software\n    distributed under the License is distributed on an \"AS IS\" BASIS,\n    WITHOUT WARRANTIES OR CONDITIONS OF ANY KIND, either express or implied.\n    See the License for the specific language governing permissions and\n    limitations under the License.\n\n..\n    Thanks to Umaneo Technologies Inc. for their contributions to this Machine Learning\n    project, visit https://www.umaneo.com/ for more information on Umaneo Technologies Inc.\n"
      ]
    },
    {
      "cell_type": "code",
      "execution_count": null,
      "metadata": {
        "collapsed": false
      },
      "outputs": [],
      "source": [
        "import numpy as np\n\nfrom neuraxle.base import NonTransformableMixin, Identity, BaseStep, NonFittableMixin\nfrom neuraxle.pipeline import Pipeline\n\n\nclass NonFittableStep(NonFittableMixin, BaseStep):\n    \"\"\"\n    Fit method is automatically implemented as changing nothing.\n    Please make your steps inherit from NonFittableMixin, when they don't need any fitting.\n    Also, make sure that BaseStep is the last step you inherit from.\n    Note that we could also define the inverse_transform method in the present object.\n    \"\"\"\n    def __init__(self):\n        BaseStep.__init__(self)\n        NonFittableMixin.__init__(self)\n\n    def transform(self, data_inputs):\n        # insert your transform code here\n        print(\"NonFittableStep: I transformed.\")\n        return data_inputs\n\n\nclass NonTransformableStep(NonTransformableMixin, BaseStep):\n    \"\"\"\n    Transform method is automatically implemented as returning data inputs as it is.\n    Please make your steps inherit from NonTransformableMixin, when they don't need any transformations.\n    Also, make sure that BaseStep is the last step you inherit from.\n    \"\"\"\n    def __init__(self):\n        BaseStep.__init__(self)\n        NonTransformableMixin.__init__(self)\n\n    def fit(self, data_inputs, expected_outputs=None) -> 'NonTransformableStep':\n        # insert your fit code here\n        print(\"NonTransformableStep: I fitted.\")\n        return self\n\n\ndef main():\n    p = Pipeline([\n        NonFittableStep(),\n        NonTransformableStep(),\n        Identity()  # Note: Identity does nothing: it inherits from both NonFittableMixin and NonTransformableMixin.\n    ])\n\n    some_data = np.array([0, 1])\n    p = p.fit(some_data)\n    # Out:\n    #     NonFittableStep: I transformed.\n    #     NonTransformableStep: I fitted.\n\n    out = p.transform(some_data)\n    # Out:\n    #     NonFittableStep: I transformed.\n\n    assert np.array_equal(out, some_data)\n    # Data is unchanged as we've done nothing in the only transform.\n\n\nif __name__ == \"__main__\":\n    main()"
      ]
    }
  ],
  "metadata": {
    "kernelspec": {
      "display_name": "Python 3",
      "language": "python",
      "name": "python3"
    },
    "language_info": {
      "codemirror_mode": {
        "name": "ipython",
        "version": 3
      },
      "file_extension": ".py",
      "mimetype": "text/x-python",
      "name": "python",
      "nbconvert_exporter": "python",
      "pygments_lexer": "ipython3",
      "version": "3.8.5"
    }
  },
  "nbformat": 4,
  "nbformat_minor": 0
}