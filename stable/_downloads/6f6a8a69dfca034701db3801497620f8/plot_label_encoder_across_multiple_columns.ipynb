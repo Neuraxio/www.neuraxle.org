{
  "cells": [
    {
      "cell_type": "code",
      "execution_count": null,
      "metadata": {
        "collapsed": false
      },
      "outputs": [],
      "source": [
        "%matplotlib inline"
      ]
    },
    {
      "cell_type": "markdown",
      "metadata": {},
      "source": [
        "\nCreate label encoder across multiple columns\n==================================================\n\nYou can apply label encoder to all columns using the ColumnTransformer step.\n\nThis demonstrates how to use properly transform columns using neuraxle.\n\nFor more info, see the `thread here <https://stackoverflow.com/questions/24458645/label-encoding-across-multiple-columns-in-scikit-learn>`__.\n\n..\n    Copyright 2019, Neuraxio Inc.\n\n    Licensed under the Apache License, Version 2.0 (the \"License\");\n    you may not use this file except in compliance with the License.\n    You may obtain a copy of the License at\n\n        http://www.apache.org/licenses/LICENSE-2.0\n\n    Unless required by applicable law or agreed to in writing, software\n    distributed under the License is distributed on an \"AS IS\" BASIS,\n    WITHOUT WARRANTIES OR CONDITIONS OF ANY KIND, either express or implied.\n    See the License for the specific language governing permissions and\n    limitations under the License.\n"
      ]
    },
    {
      "cell_type": "code",
      "execution_count": null,
      "metadata": {
        "collapsed": false
      },
      "outputs": [],
      "source": [
        "import numpy as np\nimport pandas\nfrom sklearn.preprocessing import LabelEncoder\n\nfrom neuraxle.steps.column_transformer import ColumnTransformer\nfrom neuraxle.steps.loop import FlattenForEach\n\n# Discussion:\n# https://stackoverflow.com/questions/24458645/label-encoding-across-multiple-columns-in-scikit-learn\ndf = pandas.DataFrame({\n    'pets': ['cat', 'dog', 'cat', 'monkey', 'dog', 'dog'],\n    'owner': ['Champ', 'Ron', 'Brick', 'Champ', 'Veronica', 'Ron'],\n    'location': ['San_Diego', 'New_York', 'New_York', 'San_Diego', 'San_Diego', 'New_York']\n})\n\n\ndef _apply_same_encoder_to_all_columns():\n    \"\"\"\n    One shared LabelEncoder will be applied on all the data to encode it.\n    \"\"\"\n    p = FlattenForEach(LabelEncoder(), then_unflatten=True)\n\n    p, predicted_output = p.fit_transform(df.values)\n\n    expected_output = np.array([\n        [6, 7, 6, 8, 7, 7],\n        [1, 3, 0, 1, 5, 3],\n        [4, 2, 2, 4, 4, 2]\n    ]).transpose()\n    assert np.array_equal(predicted_output, expected_output)\n\n\ndef _apply_different_encoders_to_columns():\n    \"\"\"\n    One standalone LabelEncoder will be applied on the pets,\n    and another one will be shared for the columns owner and location.\n    \"\"\"\n    p = ColumnTransformer([\n        # A different encoder will be used for column 0 with name \"pets\":\n        (0, FlattenForEach(LabelEncoder(), then_unflatten=True)),\n        # A shared encoder will be used for column 1 and 2, \"owner\" and \"location\":\n        ([1, 2], FlattenForEach(LabelEncoder(), then_unflatten=True)),\n    ], n_dimension=2)\n\n    p, predicted_output = p.fit_transform(df.values)\n\n    expected_output = np.array([\n        [0, 1, 0, 2, 1, 1],\n        [1, 3, 0, 1, 5, 3],\n        [4, 2, 2, 4, 4, 2]\n    ]).transpose()\n    assert np.array_equal(predicted_output, expected_output)\n\n\ndef main():\n    _apply_same_encoder_to_all_columns()\n    _apply_different_encoders_to_columns()\n\n\nif __name__ == \"__main__\":\n    main()"
      ]
    }
  ],
  "metadata": {
    "kernelspec": {
      "display_name": "Python 3",
      "language": "python",
      "name": "python3"
    },
    "language_info": {
      "codemirror_mode": {
        "name": "ipython",
        "version": 3
      },
      "file_extension": ".py",
      "mimetype": "text/x-python",
      "name": "python",
      "nbconvert_exporter": "python",
      "pygments_lexer": "ipython3",
      "version": "3.7.6"
    }
  },
  "nbformat": 4,
  "nbformat_minor": 0
}